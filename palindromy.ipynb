{
 "cells": [
  {
   "cell_type": "code",
   "execution_count": 3,
   "metadata": {},
   "outputs": [
    {
     "data": {
      "text/plain": [
       "['lśl', 'ilśli', 'milślim', 'amilślima', 'kamilślimak', ' kamilślimak ']"
      ]
     },
     "execution_count": 3,
     "metadata": {},
     "output_type": "execute_result"
    }
   ],
   "source": [
    "# python\n",
    "\n",
    "some_input = 'lalala kamilślimak lalala'\n",
    "\n",
    "\n",
    "def find_palindrome(palyndrom=palyndrom):\n",
    "    if len(palyndrom) < 2:\n",
    "        return False\n",
    "    is_palindrome = True\n",
    "    for i in range(len(palyndrom)):\n",
    "        if palyndrom[i] != palyndrom[len(palyndrom) -i-1]:\n",
    "            is_palindrome = False\n",
    "            break\n",
    "    return is_palindrome\n",
    "\n",
    "def find_all_palindromes(text=some_input):\n",
    "    palindromes = []\n",
    "    if len(some_input) < 2:\n",
    "        return []\n",
    "    for i in range(2, len(text)+1):\n",
    "        for j in range(i-1):\n",
    "            if find_palindrome(palyndrom=text[j:i]):\n",
    "                palindromes.append(text[j:i])\n",
    "    return palindromes\n",
    "\n",
    "## pseudokod\n",
    "# function ZNAJDZ_PALINDROM(tekst, dlugosc_tekstu)\n",
    "#     if dlugosc_tekstu < 1:\n",
    "#         return false\n",
    "#     jest_palindromem = false\n",
    "#     for (int i=0; i<dlugosc_tekstu; i++)\n",
    "#         if tekst[i] != tekst[dlugosc_tekstu - 1 - i]:\n",
    "#             jest_palindromem = false\n",
    "#             break\n",
    "#     return jest_palindromem\n",
    "\n",
    "# function ZNAJDZ_WSZYSTKIE_PALINDROMY(tekst, dlugosc_tekstu, tablica_palindromow)\n",
    "#     if dlugosc_tekstu < 2:\n",
    "#         return null\n",
    "#     for (int i = 2; i < dlugosc_tekstu + 1; i++):\n",
    "#         for (int j=0; j< i-1; j++):\n",
    "#             tekst_do_sprawdzenia = tekst.substr(j, i+1)\n",
    "#             if ZNAJDZ_PALINDROM(tekst_do_sprawdzenia) == true:\n",
    "#                 tablica_palindromow.add(tekst_do_sprawdzenia)\n",
    "#     return tablica_palindromow            \n",
    "                \n",
    "    \n",
    "            \n",
    "find_all_palindromes(text=some_input)\n"
   ]
  },
  {
   "cell_type": "code",
   "execution_count": 14,
   "metadata": {},
   "outputs": [
    {
     "name": "stdout",
     "output_type": "stream",
     "text": [
      "0\n",
      "2\n",
      "4\n",
      "6\n",
      "8\n",
      "10\n",
      "12\n",
      "14\n",
      "16\n",
      "18\n",
      "20\n",
      "22\n",
      "24\n",
      "26\n",
      "28\n",
      "30\n",
      "32\n",
      "34\n",
      "36\n",
      "38\n",
      "40\n",
      "42\n",
      "44\n",
      "46\n",
      "48\n",
      "50\n",
      "52\n",
      "54\n",
      "56\n",
      "58\n",
      "60\n",
      "62\n",
      "64\n",
      "66\n",
      "68\n",
      "70\n",
      "72\n",
      "74\n",
      "76\n",
      "78\n",
      "80\n",
      "82\n",
      "84\n",
      "86\n",
      "88\n",
      "90\n",
      "92\n",
      "94\n",
      "96\n",
      "98\n"
     ]
    }
   ],
   "source": []
  },
  {
   "cell_type": "code",
   "execution_count": null,
   "metadata": {},
   "outputs": [],
   "source": []
  }
 ],
 "metadata": {
  "kernelspec": {
   "display_name": "Python 3",
   "language": "python",
   "name": "python3"
  },
  "language_info": {
   "codemirror_mode": {
    "name": "ipython",
    "version": 3
   },
   "file_extension": ".py",
   "mimetype": "text/x-python",
   "name": "python",
   "nbconvert_exporter": "python",
   "pygments_lexer": "ipython3",
   "version": "3.7.3"
  }
 },
 "nbformat": 4,
 "nbformat_minor": 4
}
